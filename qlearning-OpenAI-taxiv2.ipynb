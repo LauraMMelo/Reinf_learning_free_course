{
 "metadata": {
  "language_info": {
   "codemirror_mode": {
    "name": "ipython",
    "version": 3
   },
   "file_extension": ".py",
   "mimetype": "text/x-python",
   "name": "python",
   "nbconvert_exporter": "python",
   "pygments_lexer": "ipython3",
   "version": "3.7.6-final"
  },
  "orig_nbformat": 2,
  "kernelspec": {
   "name": "python3",
   "display_name": "Python 3"
  }
 },
 "nbformat": 4,
 "nbformat_minor": 2,
 "cells": [
  {
   "source": [
    "## Step 0: import dependencies"
   ],
   "cell_type": "markdown",
   "metadata": {}
  },
  {
   "cell_type": "code",
   "execution_count": 4,
   "metadata": {},
   "outputs": [],
   "source": [
    "import numpy as np \n",
    "import gym\n",
    "import random"
   ]
  },
  {
   "source": [
    "# Step 1: Create the environment"
   ],
   "cell_type": "markdown",
   "metadata": {}
  },
  {
   "cell_type": "code",
   "execution_count": 6,
   "metadata": {
    "tags": []
   },
   "outputs": [
    {
     "output_type": "stream",
     "name": "stdout",
     "text": "+---------+\n|\u001b[35mR\u001b[0m: | : :\u001b[34;1mG\u001b[0m|\n| : | : : |\n| : : :\u001b[43m \u001b[0m: |\n| | : | : |\n|Y| : |B: |\n+---------+\n\n"
    }
   ],
   "source": [
    "env = gym.make(\"Taxi-v3\")\n",
    "env.render()"
   ]
  },
  {
   "source": [
    "# Step 2: Create the Q-table and initialize it"
   ],
   "cell_type": "markdown",
   "metadata": {}
  },
  {
   "cell_type": "code",
   "execution_count": 8,
   "metadata": {
    "tags": []
   },
   "outputs": [
    {
     "output_type": "stream",
     "name": "stdout",
     "text": "Action size  6\nState size  500\n"
    }
   ],
   "source": [
    "action_size = env.action_space.n\n",
    "print(\"Action size \", action_size) \n",
    "\n",
    "state_size = env.observation_space.n\n",
    "print(\"State size \", state_size) "
   ]
  },
  {
   "cell_type": "code",
   "execution_count": 9,
   "metadata": {
    "tags": []
   },
   "outputs": [
    {
     "output_type": "stream",
     "name": "stdout",
     "text": "[[0. 0. 0. 0. 0. 0.]\n [0. 0. 0. 0. 0. 0.]\n [0. 0. 0. 0. 0. 0.]\n ...\n [0. 0. 0. 0. 0. 0.]\n [0. 0. 0. 0. 0. 0.]\n [0. 0. 0. 0. 0. 0.]]\n"
    }
   ],
   "source": [
    "qtable = np.zeros((state_size, action_size))\n",
    "print(qtable)"
   ]
  },
  {
   "source": [
    "# Step 3: Create the hyperparameters"
   ],
   "cell_type": "markdown",
   "metadata": {}
  },
  {
   "cell_type": "code",
   "execution_count": 10,
   "metadata": {},
   "outputs": [],
   "source": [
    "total_episodes = 50000\n",
    "total_test_episodes = 100\n",
    "max_steps = 99\n",
    "\n",
    "learning_rate = 0.7\n",
    "gamma = 0.618\n",
    "\n",
    "# Exploration parameters\n",
    "epsilon = 1.0\n",
    "max_epsilon = 1.0\n",
    "min_epsilon = 0.01\n",
    "decay_rate = 0.01"
   ]
  },
  {
   "source": [
    "# Step 4: The Q learning algorithm"
   ],
   "cell_type": "markdown",
   "metadata": {}
  },
  {
   "cell_type": "code",
   "execution_count": 11,
   "metadata": {},
   "outputs": [],
   "source": [
    "# For life or until learning is stopped\n",
    "for episode in range(total_episodes):\n",
    "    # Reset the environment\n",
    "    state = env.reset()\n",
    "    step = 0\n",
    "    done = False\n",
    "\n",
    "    for step in range(max_steps):\n",
    "        # Choose an action a in the current world state (s)\n",
    "        ## First randomize a number\n",
    "        exp_exp_tradeoff = random.uniform(0,1)\n",
    "\n",
    "        ## If this number > epsilon --> exploitation (taking the biggest Q value for this state)\n",
    "        if exp_exp_tradeoff > epsilon:\n",
    "            action = np.argmax(qtable[state,:])\n",
    "\n",
    "        # Else doing a random choice --> exploration\n",
    "        else:\n",
    "            action = env.action_space.sample()\n",
    "\n",
    "        # Take the action (a) and observe the outcome state(s') and reward (r)\n",
    "        new_state, reward, done, info = env.step(action)\n",
    "\n",
    "        # Update Q(s,a):= Q(s,a) + lr [R(s,a) + gamma * max Q(s', a') - Q(s,a)]\n",
    "        qtable[state, action] = qtable[state, action] + learning_rate * (reward + gamma * np.max(qtable[new_state, :]) - qtable[state, action])\n",
    "\n",
    "        # Our new state is state\n",
    "        state = new_state\n",
    "\n",
    "        # If done : finish episode\n",
    "        if done == True:\n",
    "            break\n",
    "\n",
    "    episode += 1  \n",
    "    epsilon = min_epsilon + (max_epsilon - min_epsilon)*np.exp(-decay_rate*episode)\n"
   ]
  },
  {
   "source": [
    "# Step 5: Use our Q-table to play taxi"
   ],
   "cell_type": "markdown",
   "metadata": {}
  },
  {
   "cell_type": "code",
   "execution_count": 13,
   "metadata": {
    "tags": [
     "outputPrepend"
    ]
   },
   "outputs": [
    {
     "output_type": "stream",
     "name": "stdout",
     "text": "| : | : : |\n| : : : : |\n| | : | : |\n|Y| : |\u001b[34;1m\u001b[43mB\u001b[0m\u001b[0m: |\n+---------+\n  (South)\n+---------+\n|\u001b[35mR\u001b[0m: | : :G|\n| : | : : |\n| : : : : |\n| | : | : |\n|Y| : |\u001b[42mB\u001b[0m: |\n+---------+\n  (Pickup)\n+---------+\n|\u001b[35mR\u001b[0m: | : :G|\n| : | : : |\n| : : : : |\n| | : |\u001b[42m_\u001b[0m: |\n|Y| : |B: |\n+---------+\n  (North)\n+---------+\n|\u001b[35mR\u001b[0m: | : :G|\n| : | : : |\n| : : :\u001b[42m_\u001b[0m: |\n| | : | : |\n|Y| : |B: |\n+---------+\n  (North)\n+---------+\n|\u001b[35mR\u001b[0m: | : :G|\n| : | : : |\n| : :\u001b[42m_\u001b[0m: : |\n| | : | : |\n|Y| : |B: |\n+---------+\n  (West)\n+---------+\n|\u001b[35mR\u001b[0m: | : :G|\n| : | : : |\n| :\u001b[42m_\u001b[0m: : : |\n| | : | : |\n|Y| : |B: |\n+---------+\n  (West)\n+---------+\n|\u001b[35mR\u001b[0m: | : :G|\n| : | : : |\n|\u001b[42m_\u001b[0m: : : : |\n| | : | : |\n|Y| : |B: |\n+---------+\n  (West)\n+---------+\n|\u001b[35mR\u001b[0m: | : :G|\n|\u001b[42m_\u001b[0m: | : : |\n| : : : : |\n| | : | : |\n|Y| : |B: |\n+---------+\n  (North)\n+---------+\n|\u001b[35m\u001b[42mR\u001b[0m\u001b[0m: | : :G|\n| : | : : |\n| : : : : |\n| | : | : |\n|Y| : |B: |\n+---------+\n  (North)\nScore 9\n*************************************************\nEPISODE  88\n+---------+\n|R: | : :G|\n| : | : : |\n| :\u001b[43m \u001b[0m: : : |\n| | : | : |\n|\u001b[35mY\u001b[0m| : |\u001b[34;1mB\u001b[0m: |\n+---------+\n\n+---------+\n|R: | : :G|\n| : | : : |\n| : :\u001b[43m \u001b[0m: : |\n| | : | : |\n|\u001b[35mY\u001b[0m| : |\u001b[34;1mB\u001b[0m: |\n+---------+\n  (East)\n+---------+\n|R: | : :G|\n| : | : : |\n| : : :\u001b[43m \u001b[0m: |\n| | : | : |\n|\u001b[35mY\u001b[0m| : |\u001b[34;1mB\u001b[0m: |\n+---------+\n  (East)\n+---------+\n|R: | : :G|\n| : | : : |\n| : : : : |\n| | : |\u001b[43m \u001b[0m: |\n|\u001b[35mY\u001b[0m| : |\u001b[34;1mB\u001b[0m: |\n+---------+\n  (South)\n+---------+\n|R: | : :G|\n| : | : : |\n| : : : : |\n| | : | : |\n|\u001b[35mY\u001b[0m| : |\u001b[34;1m\u001b[43mB\u001b[0m\u001b[0m: |\n+---------+\n  (South)\n+---------+\n|R: | : :G|\n| : | : : |\n| : : : : |\n| | : | : |\n|\u001b[35mY\u001b[0m| : |\u001b[42mB\u001b[0m: |\n+---------+\n  (Pickup)\n+---------+\n|R: | : :G|\n| : | : : |\n| : : : : |\n| | : |\u001b[42m_\u001b[0m: |\n|\u001b[35mY\u001b[0m| : |B: |\n+---------+\n  (North)\n+---------+\n|R: | : :G|\n| : | : : |\n| : : :\u001b[42m_\u001b[0m: |\n| | : | : |\n|\u001b[35mY\u001b[0m| : |B: |\n+---------+\n  (North)\n+---------+\n|R: | : :G|\n| : | : : |\n| : :\u001b[42m_\u001b[0m: : |\n| | : | : |\n|\u001b[35mY\u001b[0m| : |B: |\n+---------+\n  (West)\n+---------+\n|R: | : :G|\n| : | : : |\n| :\u001b[42m_\u001b[0m: : : |\n| | : | : |\n|\u001b[35mY\u001b[0m| : |B: |\n+---------+\n  (West)\n+---------+\n|R: | : :G|\n| : | : : |\n|\u001b[42m_\u001b[0m: : : : |\n| | : | : |\n|\u001b[35mY\u001b[0m| : |B: |\n+---------+\n  (West)\n+---------+\n|R: | : :G|\n| : | : : |\n| : : : : |\n|\u001b[42m_\u001b[0m| : | : |\n|\u001b[35mY\u001b[0m| : |B: |\n+---------+\n  (South)\n+---------+\n|R: | : :G|\n| : | : : |\n| : : : : |\n| | : | : |\n|\u001b[35m\u001b[42mY\u001b[0m\u001b[0m| : |B: |\n+---------+\n  (South)\nScore 8\n*************************************************\nEPISODE  89\n+---------+\n|R: | : :\u001b[34;1mG\u001b[0m|\n| : | : : |\n| : : : : |\n| | : | : |\n|Y| : |\u001b[35mB\u001b[0m:\u001b[43m \u001b[0m|\n+---------+\n\n+---------+\n|R: | : :\u001b[34;1mG\u001b[0m|\n| : | : : |\n| : : : : |\n| | : | :\u001b[43m \u001b[0m|\n|Y| : |\u001b[35mB\u001b[0m: |\n+---------+\n  (North)\n+---------+\n|R: | : :\u001b[34;1mG\u001b[0m|\n| : | : : |\n| : : : :\u001b[43m \u001b[0m|\n| | : | : |\n|Y| : |\u001b[35mB\u001b[0m: |\n+---------+\n  (North)\n+---------+\n|R: | : :\u001b[34;1mG\u001b[0m|\n| : | : :\u001b[43m \u001b[0m|\n| : : : : |\n| | : | : |\n|Y| : |\u001b[35mB\u001b[0m: |\n+---------+\n  (North)\n+---------+\n|R: | : :\u001b[34;1m\u001b[43mG\u001b[0m\u001b[0m|\n| : | : : |\n| : : : : |\n| | : | : |\n|Y| : |\u001b[35mB\u001b[0m: |\n+---------+\n  (North)\n+---------+\n|R: | : :\u001b[42mG\u001b[0m|\n| : | : : |\n| : : : : |\n| | : | : |\n|Y| : |\u001b[35mB\u001b[0m: |\n+---------+\n  (Pickup)\n+---------+\n|R: | :\u001b[42m_\u001b[0m:G|\n| : | : : |\n| : : : : |\n| | : | : |\n|Y| : |\u001b[35mB\u001b[0m: |\n+---------+\n  (West)\n+---------+\n|R: | : :G|\n| : | :\u001b[42m_\u001b[0m: |\n| : : : : |\n| | : | : |\n|Y| : |\u001b[35mB\u001b[0m: |\n+---------+\n  (South)\n+---------+\n|R: | : :G|\n| : | : : |\n| : : :\u001b[42m_\u001b[0m: |\n| | : | : |\n|Y| : |\u001b[35mB\u001b[0m: |\n+---------+\n  (South)\n+---------+\n|R: | : :G|\n| : | : : |\n| : : : : |\n| | : |\u001b[42m_\u001b[0m: |\n|Y| : |\u001b[35mB\u001b[0m: |\n+---------+\n  (South)\n+---------+\n|R: | : :G|\n| : | : : |\n| : : : : |\n| | : | : |\n|Y| : |\u001b[35m\u001b[42mB\u001b[0m\u001b[0m: |\n+---------+\n  (South)\nScore 10\n*************************************************\nEPISODE  90\n+---------+\n|\u001b[34;1mR\u001b[0m:\u001b[43m \u001b[0m| : :G|\n| : | : : |\n| : : : : |\n| | : | : |\n|Y| : |\u001b[35mB\u001b[0m: |\n+---------+\n\n+---------+\n|\u001b[34;1m\u001b[43mR\u001b[0m\u001b[0m: | : :G|\n| : | : : |\n| : : : : |\n| | : | : |\n|Y| : |\u001b[35mB\u001b[0m: |\n+---------+\n  (West)\n+---------+\n|\u001b[42mR\u001b[0m: | : :G|\n| : | : : |\n| : : : : |\n| | : | : |\n|Y| : |\u001b[35mB\u001b[0m: |\n+---------+\n  (Pickup)\n+---------+\n|R: | : :G|\n|\u001b[42m_\u001b[0m: | : : |\n| : : : : |\n| | : | : |\n|Y| : |\u001b[35mB\u001b[0m: |\n+---------+\n  (South)\n+---------+\n|R: | : :G|\n| :\u001b[42m_\u001b[0m| : : |\n| : : : : |\n| | : | : |\n|Y| : |\u001b[35mB\u001b[0m: |\n+---------+\n  (East)\n+---------+\n|R: | : :G|\n| : | : : |\n| :\u001b[42m_\u001b[0m: : : |\n| | : | : |\n|Y| : |\u001b[35mB\u001b[0m: |\n+---------+\n  (South)\n+---------+\n|R: | : :G|\n| : | : : |\n| : :\u001b[42m_\u001b[0m: : |\n| | : | : |\n|Y| : |\u001b[35mB\u001b[0m: |\n+---------+\n  (East)\n+---------+\n|R: | : :G|\n| : | : : |\n| : : :\u001b[42m_\u001b[0m: |\n| | : | : |\n|Y| : |\u001b[35mB\u001b[0m: |\n+---------+\n  (East)\n+---------+\n|R: | : :G|\n| : | : : |\n| : : : : |\n| | : |\u001b[42m_\u001b[0m: |\n|Y| : |\u001b[35mB\u001b[0m: |\n+---------+\n  (South)\n+---------+\n|R: | : :G|\n| : | : : |\n| : : : : |\n| | : | : |\n|Y| : |\u001b[35m\u001b[42mB\u001b[0m\u001b[0m: |\n+---------+\n  (South)\nScore 11\n*************************************************\nEPISODE  91\n+---------+\n|R: | : :\u001b[35mG\u001b[0m|\n| : | : : |\n| : : : : |\n| |\u001b[43m \u001b[0m: | : |\n|\u001b[34;1mY\u001b[0m| : |B: |\n+---------+\n\n+---------+\n|R: | : :\u001b[35mG\u001b[0m|\n| : | : : |\n| :\u001b[43m \u001b[0m: : : |\n| | : | : |\n|\u001b[34;1mY\u001b[0m| : |B: |\n+---------+\n  (North)\n+---------+\n|R: | : :\u001b[35mG\u001b[0m|\n| : | : : |\n|\u001b[43m \u001b[0m: : : : |\n| | : | : |\n|\u001b[34;1mY\u001b[0m| : |B: |\n+---------+\n  (West)\n+---------+\n|R: | : :\u001b[35mG\u001b[0m|\n| : | : : |\n| : : : : |\n|\u001b[43m \u001b[0m| : | : |\n|\u001b[34;1mY\u001b[0m| : |B: |\n+---------+\n  (South)\n+---------+\n|R: | : :\u001b[35mG\u001b[0m|\n| : | : : |\n| : : : : |\n| | : | : |\n|\u001b[34;1m\u001b[43mY\u001b[0m\u001b[0m| : |B: |\n+---------+\n  (South)\n+---------+\n|R: | : :\u001b[35mG\u001b[0m|\n| : | : : |\n| : : : : |\n| | : | : |\n|\u001b[42mY\u001b[0m| : |B: |\n+---------+\n  (Pickup)\n+---------+\n|R: | : :\u001b[35mG\u001b[0m|\n| : | : : |\n| : : : : |\n|\u001b[42m_\u001b[0m| : | : |\n|Y| : |B: |\n+---------+\n  (North)\n+---------+\n|R: | : :\u001b[35mG\u001b[0m|\n| : | : : |\n|\u001b[42m_\u001b[0m: : : : |\n| | : | : |\n|Y| : |B: |\n+---------+\n  (North)\n+---------+\n|R: | : :\u001b[35mG\u001b[0m|\n| : | : : |\n| :\u001b[42m_\u001b[0m: : : |\n| | : | : |\n|Y| : |B: |\n+---------+\n  (East)\n+---------+\n|R: | : :\u001b[35mG\u001b[0m|\n| : | : : |\n| : :\u001b[42m_\u001b[0m: : |\n| | : | : |\n|Y| : |B: |\n+---------+\n  (East)\n+---------+\n|R: | : :\u001b[35mG\u001b[0m|\n| : |\u001b[42m_\u001b[0m: : |\n| : : : : |\n| | : | : |\n|Y| : |B: |\n+---------+\n  (North)\n+---------+\n|R: |\u001b[42m_\u001b[0m: :\u001b[35mG\u001b[0m|\n| : | : : |\n| : : : : |\n| | : | : |\n|Y| : |B: |\n+---------+\n  (North)\n+---------+\n|R: | :\u001b[42m_\u001b[0m:\u001b[35mG\u001b[0m|\n| : | : : |\n| : : : : |\n| | : | : |\n|Y| : |B: |\n+---------+\n  (East)\n+---------+\n|R: | : :\u001b[35m\u001b[42mG\u001b[0m\u001b[0m|\n| : | : : |\n| : : : : |\n| | : | : |\n|Y| : |B: |\n+---------+\n  (East)\nScore 7\n*************************************************\nEPISODE  92\n+---------+\n|R: | : :\u001b[35mG\u001b[0m|\n| : | : : |\n| :\u001b[43m \u001b[0m: : : |\n| | : | : |\n|\u001b[34;1mY\u001b[0m| : |B: |\n+---------+\n\n+---------+\n|R: | : :\u001b[35mG\u001b[0m|\n| : | : : |\n|\u001b[43m \u001b[0m: : : : |\n| | : | : |\n|\u001b[34;1mY\u001b[0m| : |B: |\n+---------+\n  (West)\n+---------+\n|R: | : :\u001b[35mG\u001b[0m|\n| : | : : |\n| : : : : |\n|\u001b[43m \u001b[0m| : | : |\n|\u001b[34;1mY\u001b[0m| : |B: |\n+---------+\n  (South)\n+---------+\n|R: | : :\u001b[35mG\u001b[0m|\n| : | : : |\n| : : : : |\n| | : | : |\n|\u001b[34;1m\u001b[43mY\u001b[0m\u001b[0m| : |B: |\n+---------+\n  (South)\n+---------+\n|R: | : :\u001b[35mG\u001b[0m|\n| : | : : |\n| : : : : |\n| | : | : |\n|\u001b[42mY\u001b[0m| : |B: |\n+---------+\n  (Pickup)\n+---------+\n|R: | : :\u001b[35mG\u001b[0m|\n| : | : : |\n| : : : : |\n|\u001b[42m_\u001b[0m| : | : |\n|Y| : |B: |\n+---------+\n  (North)\n+---------+\n|R: | : :\u001b[35mG\u001b[0m|\n| : | : : |\n|\u001b[42m_\u001b[0m: : : : |\n| | : | : |\n|Y| : |B: |\n+---------+\n  (North)\n+---------+\n|R: | : :\u001b[35mG\u001b[0m|\n| : | : : |\n| :\u001b[42m_\u001b[0m: : : |\n| | : | : |\n|Y| : |B: |\n+---------+\n  (East)\n+---------+\n|R: | : :\u001b[35mG\u001b[0m|\n| : | : : |\n| : :\u001b[42m_\u001b[0m: : |\n| | : | : |\n|Y| : |B: |\n+---------+\n  (East)\n+---------+\n|R: | : :\u001b[35mG\u001b[0m|\n| : |\u001b[42m_\u001b[0m: : |\n| : : : : |\n| | : | : |\n|Y| : |B: |\n+---------+\n  (North)\n+---------+\n|R: |\u001b[42m_\u001b[0m: :\u001b[35mG\u001b[0m|\n| : | : : |\n| : : : : |\n| | : | : |\n|Y| : |B: |\n+---------+\n  (North)\n+---------+\n|R: | :\u001b[42m_\u001b[0m:\u001b[35mG\u001b[0m|\n| : | : : |\n| : : : : |\n| | : | : |\n|Y| : |B: |\n+---------+\n  (East)\n+---------+\n|R: | : :\u001b[35m\u001b[42mG\u001b[0m\u001b[0m|\n| : | : : |\n| : : : : |\n| | : | : |\n|Y| : |B: |\n+---------+\n  (East)\nScore 8\n*************************************************\nEPISODE  93\n+---------+\n|\u001b[35mR\u001b[0m: | : :\u001b[34;1mG\u001b[0m|\n| : | : : |\n| : : : : |\n| |\u001b[43m \u001b[0m: | : |\n|Y| : |B: |\n+---------+\n\n+---------+\n|\u001b[35mR\u001b[0m: | : :\u001b[34;1mG\u001b[0m|\n| : | : : |\n| :\u001b[43m \u001b[0m: : : |\n| | : | : |\n|Y| : |B: |\n+---------+\n  (North)\n+---------+\n|\u001b[35mR\u001b[0m: | : :\u001b[34;1mG\u001b[0m|\n| : | : : |\n| : :\u001b[43m \u001b[0m: : |\n| | : | : |\n|Y| : |B: |\n+---------+\n  (East)\n+---------+\n|\u001b[35mR\u001b[0m: | : :\u001b[34;1mG\u001b[0m|\n| : | : : |\n| : : :\u001b[43m \u001b[0m: |\n| | : | : |\n|Y| : |B: |\n+---------+\n  (East)\n+---------+\n|\u001b[35mR\u001b[0m: | : :\u001b[34;1mG\u001b[0m|\n| : | : : |\n| : : : :\u001b[43m \u001b[0m|\n| | : | : |\n|Y| : |B: |\n+---------+\n  (East)\n+---------+\n|\u001b[35mR\u001b[0m: | : :\u001b[34;1mG\u001b[0m|\n| : | : :\u001b[43m \u001b[0m|\n| : : : : |\n| | : | : |\n|Y| : |B: |\n+---------+\n  (North)\n+---------+\n|\u001b[35mR\u001b[0m: | : :\u001b[34;1m\u001b[43mG\u001b[0m\u001b[0m|\n| : | : : |\n| : : : : |\n| | : | : |\n|Y| : |B: |\n+---------+\n  (North)\n+---------+\n|\u001b[35mR\u001b[0m: | : :\u001b[42mG\u001b[0m|\n| : | : : |\n| : : : : |\n| | : | : |\n|Y| : |B: |\n+---------+\n  (Pickup)\n+---------+\n|\u001b[35mR\u001b[0m: | :\u001b[42m_\u001b[0m:G|\n| : | : : |\n| : : : : |\n| | : | : |\n|Y| : |B: |\n+---------+\n  (West)\n+---------+\n|\u001b[35mR\u001b[0m: |\u001b[42m_\u001b[0m: :G|\n| : | : : |\n| : : : : |\n| | : | : |\n|Y| : |B: |\n+---------+\n  (West)\n+---------+\n|\u001b[35mR\u001b[0m: | : :G|\n| : |\u001b[42m_\u001b[0m: : |\n| : : : : |\n| | : | : |\n|Y| : |B: |\n+---------+\n  (South)\n+---------+\n|\u001b[35mR\u001b[0m: | : :G|\n| : | : : |\n| : :\u001b[42m_\u001b[0m: : |\n| | : | : |\n|Y| : |B: |\n+---------+\n  (South)\n+---------+\n|\u001b[35mR\u001b[0m: | : :G|\n| : | : : |\n| :\u001b[42m_\u001b[0m: : : |\n| | : | : |\n|Y| : |B: |\n+---------+\n  (West)\n+---------+\n|\u001b[35mR\u001b[0m: | : :G|\n| : | : : |\n|\u001b[42m_\u001b[0m: : : : |\n| | : | : |\n|Y| : |B: |\n+---------+\n  (West)\n+---------+\n|\u001b[35mR\u001b[0m: | : :G|\n|\u001b[42m_\u001b[0m: | : : |\n| : : : : |\n| | : | : |\n|Y| : |B: |\n+---------+\n  (North)\n+---------+\n|\u001b[35m\u001b[42mR\u001b[0m\u001b[0m: | : :G|\n| : | : : |\n| : : : : |\n| | : | : |\n|Y| : |B: |\n+---------+\n  (North)\nScore 5\n*************************************************\nEPISODE  94\n+---------+\n|R: | :\u001b[43m \u001b[0m:\u001b[35mG\u001b[0m|\n| : | : : |\n| : : : : |\n| | : | : |\n|Y| : |\u001b[34;1mB\u001b[0m: |\n+---------+\n\n+---------+\n|R: | : :\u001b[35mG\u001b[0m|\n| : | :\u001b[43m \u001b[0m: |\n| : : : : |\n| | : | : |\n|Y| : |\u001b[34;1mB\u001b[0m: |\n+---------+\n  (South)\n+---------+\n|R: | : :\u001b[35mG\u001b[0m|\n| : | : : |\n| : : :\u001b[43m \u001b[0m: |\n| | : | : |\n|Y| : |\u001b[34;1mB\u001b[0m: |\n+---------+\n  (South)\n+---------+\n|R: | : :\u001b[35mG\u001b[0m|\n| : | : : |\n| : : : : |\n| | : |\u001b[43m \u001b[0m: |\n|Y| : |\u001b[34;1mB\u001b[0m: |\n+---------+\n  (South)\n+---------+\n|R: | : :\u001b[35mG\u001b[0m|\n| : | : : |\n| : : : : |\n| | : | : |\n|Y| : |\u001b[34;1m\u001b[43mB\u001b[0m\u001b[0m: |\n+---------+\n  (South)\n+---------+\n|R: | : :\u001b[35mG\u001b[0m|\n| : | : : |\n| : : : : |\n| | : | : |\n|Y| : |\u001b[42mB\u001b[0m: |\n+---------+\n  (Pickup)\n+---------+\n|R: | : :\u001b[35mG\u001b[0m|\n| : | : : |\n| : : : : |\n| | : |\u001b[42m_\u001b[0m: |\n|Y| : |B: |\n+---------+\n  (North)\n+---------+\n|R: | : :\u001b[35mG\u001b[0m|\n| : | : : |\n| : : : : |\n| | : | :\u001b[42m_\u001b[0m|\n|Y| : |B: |\n+---------+\n  (East)\n+---------+\n|R: | : :\u001b[35mG\u001b[0m|\n| : | : : |\n| : : : :\u001b[42m_\u001b[0m|\n| | : | : |\n|Y| : |B: |\n+---------+\n  (North)\n+---------+\n|R: | : :\u001b[35mG\u001b[0m|\n| : | : :\u001b[42m_\u001b[0m|\n| : : : : |\n| | : | : |\n|Y| : |B: |\n+---------+\n  (North)\n+---------+\n|R: | : :\u001b[35m\u001b[42mG\u001b[0m\u001b[0m|\n| : | : : |\n| : : : : |\n| | : | : |\n|Y| : |B: |\n+---------+\n  (North)\nScore 10\n*************************************************\nEPISODE  95\n+---------+\n|\u001b[34;1mR\u001b[0m: | : :G|\n| : | : : |\n| : : : : |\n| | : | : |\n|\u001b[35m\u001b[43mY\u001b[0m\u001b[0m| : |B: |\n+---------+\n\n+---------+\n|\u001b[34;1mR\u001b[0m: | : :G|\n| : | : : |\n| : : : : |\n|\u001b[43m \u001b[0m| : | : |\n|\u001b[35mY\u001b[0m| : |B: |\n+---------+\n  (North)\n+---------+\n|\u001b[34;1mR\u001b[0m: | : :G|\n| : | : : |\n|\u001b[43m \u001b[0m: : : : |\n| | : | : |\n|\u001b[35mY\u001b[0m| : |B: |\n+---------+\n  (North)\n+---------+\n|\u001b[34;1mR\u001b[0m: | : :G|\n|\u001b[43m \u001b[0m: | : : |\n| : : : : |\n| | : | : |\n|\u001b[35mY\u001b[0m| : |B: |\n+---------+\n  (North)\n+---------+\n|\u001b[34;1m\u001b[43mR\u001b[0m\u001b[0m: | : :G|\n| : | : : |\n| : : : : |\n| | : | : |\n|\u001b[35mY\u001b[0m| : |B: |\n+---------+\n  (North)\n+---------+\n|\u001b[42mR\u001b[0m: | : :G|\n| : | : : |\n| : : : : |\n| | : | : |\n|\u001b[35mY\u001b[0m| : |B: |\n+---------+\n  (Pickup)\n+---------+\n|R: | : :G|\n|\u001b[42m_\u001b[0m: | : : |\n| : : : : |\n| | : | : |\n|\u001b[35mY\u001b[0m| : |B: |\n+---------+\n  (South)\n+---------+\n|R: | : :G|\n| : | : : |\n|\u001b[42m_\u001b[0m: : : : |\n| | : | : |\n|\u001b[35mY\u001b[0m| : |B: |\n+---------+\n  (South)\n+---------+\n|R: | : :G|\n| : | : : |\n| : : : : |\n|\u001b[42m_\u001b[0m| : | : |\n|\u001b[35mY\u001b[0m| : |B: |\n+---------+\n  (South)\n+---------+\n|R: | : :G|\n| : | : : |\n| : : : : |\n| | : | : |\n|\u001b[35m\u001b[42mY\u001b[0m\u001b[0m| : |B: |\n+---------+\n  (South)\nScore 11\n*************************************************\nEPISODE  96\n+---------+\n|R: | : :\u001b[34;1mG\u001b[0m|\n| : | : : |\n| : : : : |\n| | : | : |\n|\u001b[35mY\u001b[0m| : |B:\u001b[43m \u001b[0m|\n+---------+\n\n+---------+\n|R: | : :\u001b[34;1mG\u001b[0m|\n| : | : : |\n| : : : : |\n| | : | :\u001b[43m \u001b[0m|\n|\u001b[35mY\u001b[0m| : |B: |\n+---------+\n  (North)\n+---------+\n|R: | : :\u001b[34;1mG\u001b[0m|\n| : | : : |\n| : : : :\u001b[43m \u001b[0m|\n| | : | : |\n|\u001b[35mY\u001b[0m| : |B: |\n+---------+\n  (North)\n+---------+\n|R: | : :\u001b[34;1mG\u001b[0m|\n| : | : :\u001b[43m \u001b[0m|\n| : : : : |\n| | : | : |\n|\u001b[35mY\u001b[0m| : |B: |\n+---------+\n  (North)\n+---------+\n|R: | : :\u001b[34;1m\u001b[43mG\u001b[0m\u001b[0m|\n| : | : : |\n| : : : : |\n| | : | : |\n|\u001b[35mY\u001b[0m| : |B: |\n+---------+\n  (North)\n+---------+\n|R: | : :\u001b[42mG\u001b[0m|\n| : | : : |\n| : : : : |\n| | : | : |\n|\u001b[35mY\u001b[0m| : |B: |\n+---------+\n  (Pickup)\n+---------+\n|R: | : :G|\n| : | : :\u001b[42m_\u001b[0m|\n| : : : : |\n| | : | : |\n|\u001b[35mY\u001b[0m| : |B: |\n+---------+\n  (South)\n+---------+\n|R: | : :G|\n| : | : : |\n| : : : :\u001b[42m_\u001b[0m|\n| | : | : |\n|\u001b[35mY\u001b[0m| : |B: |\n+---------+\n  (South)\n+---------+\n|R: | : :G|\n| : | : : |\n| : : :\u001b[42m_\u001b[0m: |\n| | : | : |\n|\u001b[35mY\u001b[0m| : |B: |\n+---------+\n  (West)\n+---------+\n|R: | : :G|\n| : | : : |\n| : :\u001b[42m_\u001b[0m: : |\n| | : | : |\n|\u001b[35mY\u001b[0m| : |B: |\n+---------+\n  (West)\n+---------+\n|R: | : :G|\n| : | : : |\n| :\u001b[42m_\u001b[0m: : : |\n| | : | : |\n|\u001b[35mY\u001b[0m| : |B: |\n+---------+\n  (West)\n+---------+\n|R: | : :G|\n| : | : : |\n|\u001b[42m_\u001b[0m: : : : |\n| | : | : |\n|\u001b[35mY\u001b[0m| : |B: |\n+---------+\n  (West)\n+---------+\n|R: | : :G|\n| : | : : |\n| : : : : |\n|\u001b[42m_\u001b[0m| : | : |\n|\u001b[35mY\u001b[0m| : |B: |\n+---------+\n  (South)\n+---------+\n|R: | : :G|\n| : | : : |\n| : : : : |\n| | : | : |\n|\u001b[35m\u001b[42mY\u001b[0m\u001b[0m| : |B: |\n+---------+\n  (South)\nScore 7\n*************************************************\nEPISODE  97\n+---------+\n|\u001b[35mR\u001b[0m: | : :G|\n| : | : : |\n|\u001b[43m \u001b[0m: : : : |\n| | : | : |\n|Y| : |\u001b[34;1mB\u001b[0m: |\n+---------+\n\n+---------+\n|\u001b[35mR\u001b[0m: | : :G|\n| : | : : |\n| :\u001b[43m \u001b[0m: : : |\n| | : | : |\n|Y| : |\u001b[34;1mB\u001b[0m: |\n+---------+\n  (East)\n+---------+\n|\u001b[35mR\u001b[0m: | : :G|\n| : | : : |\n| : :\u001b[43m \u001b[0m: : |\n| | : | : |\n|Y| : |\u001b[34;1mB\u001b[0m: |\n+---------+\n  (East)\n+---------+\n|\u001b[35mR\u001b[0m: | : :G|\n| : | : : |\n| : : :\u001b[43m \u001b[0m: |\n| | : | : |\n|Y| : |\u001b[34;1mB\u001b[0m: |\n+---------+\n  (East)\n+---------+\n|\u001b[35mR\u001b[0m: | : :G|\n| : | : : |\n| : : : : |\n| | : |\u001b[43m \u001b[0m: |\n|Y| : |\u001b[34;1mB\u001b[0m: |\n+---------+\n  (South)\n+---------+\n|\u001b[35mR\u001b[0m: | : :G|\n| : | : : |\n| : : : : |\n| | : | : |\n|Y| : |\u001b[34;1m\u001b[43mB\u001b[0m\u001b[0m: |\n+---------+\n  (South)\n+---------+\n|\u001b[35mR\u001b[0m: | : :G|\n| : | : : |\n| : : : : |\n| | : | : |\n|Y| : |\u001b[42mB\u001b[0m: |\n+---------+\n  (Pickup)\n+---------+\n|\u001b[35mR\u001b[0m: | : :G|\n| : | : : |\n| : : : : |\n| | : |\u001b[42m_\u001b[0m: |\n|Y| : |B: |\n+---------+\n  (North)\n+---------+\n|\u001b[35mR\u001b[0m: | : :G|\n| : | : : |\n| : : :\u001b[42m_\u001b[0m: |\n| | : | : |\n|Y| : |B: |\n+---------+\n  (North)\n+---------+\n|\u001b[35mR\u001b[0m: | : :G|\n| : | : : |\n| : :\u001b[42m_\u001b[0m: : |\n| | : | : |\n|Y| : |B: |\n+---------+\n  (West)\n+---------+\n|\u001b[35mR\u001b[0m: | : :G|\n| : | : : |\n| :\u001b[42m_\u001b[0m: : : |\n| | : | : |\n|Y| : |B: |\n+---------+\n  (West)\n+---------+\n|\u001b[35mR\u001b[0m: | : :G|\n| : | : : |\n|\u001b[42m_\u001b[0m: : : : |\n| | : | : |\n|Y| : |B: |\n+---------+\n  (West)\n+---------+\n|\u001b[35mR\u001b[0m: | : :G|\n|\u001b[42m_\u001b[0m: | : : |\n| : : : : |\n| | : | : |\n|Y| : |B: |\n+---------+\n  (North)\n+---------+\n|\u001b[35m\u001b[42mR\u001b[0m\u001b[0m: | : :G|\n| : | : : |\n| : : : : |\n| | : | : |\n|Y| : |B: |\n+---------+\n  (North)\nScore 7\n*************************************************\nEPISODE  98\n+---------+\n|\u001b[35mR\u001b[0m: | : :G|\n|\u001b[43m \u001b[0m: | : : |\n| : : : : |\n| | : | : |\n|Y| : |\u001b[34;1mB\u001b[0m: |\n+---------+\n\n+---------+\n|\u001b[35mR\u001b[0m: | : :G|\n| : | : : |\n|\u001b[43m \u001b[0m: : : : |\n| | : | : |\n|Y| : |\u001b[34;1mB\u001b[0m: |\n+---------+\n  (South)\n+---------+\n|\u001b[35mR\u001b[0m: | : :G|\n| : | : : |\n| :\u001b[43m \u001b[0m: : : |\n| | : | : |\n|Y| : |\u001b[34;1mB\u001b[0m: |\n+---------+\n  (East)\n+---------+\n|\u001b[35mR\u001b[0m: | : :G|\n| : | : : |\n| : :\u001b[43m \u001b[0m: : |\n| | : | : |\n|Y| : |\u001b[34;1mB\u001b[0m: |\n+---------+\n  (East)\n+---------+\n|\u001b[35mR\u001b[0m: | : :G|\n| : | : : |\n| : : :\u001b[43m \u001b[0m: |\n| | : | : |\n|Y| : |\u001b[34;1mB\u001b[0m: |\n+---------+\n  (East)\n+---------+\n|\u001b[35mR\u001b[0m: | : :G|\n| : | : : |\n| : : : : |\n| | : |\u001b[43m \u001b[0m: |\n|Y| : |\u001b[34;1mB\u001b[0m: |\n+---------+\n  (South)\n+---------+\n|\u001b[35mR\u001b[0m: | : :G|\n| : | : : |\n| : : : : |\n| | : | : |\n|Y| : |\u001b[34;1m\u001b[43mB\u001b[0m\u001b[0m: |\n+---------+\n  (South)\n+---------+\n|\u001b[35mR\u001b[0m: | : :G|\n| : | : : |\n| : : : : |\n| | : | : |\n|Y| : |\u001b[42mB\u001b[0m: |\n+---------+\n  (Pickup)\n+---------+\n|\u001b[35mR\u001b[0m: | : :G|\n| : | : : |\n| : : : : |\n| | : |\u001b[42m_\u001b[0m: |\n|Y| : |B: |\n+---------+\n  (North)\n+---------+\n|\u001b[35mR\u001b[0m: | : :G|\n| : | : : |\n| : : :\u001b[42m_\u001b[0m: |\n| | : | : |\n|Y| : |B: |\n+---------+\n  (North)\n+---------+\n|\u001b[35mR\u001b[0m: | : :G|\n| : | : : |\n| : :\u001b[42m_\u001b[0m: : |\n| | : | : |\n|Y| : |B: |\n+---------+\n  (West)\n+---------+\n|\u001b[35mR\u001b[0m: | : :G|\n| : | : : |\n| :\u001b[42m_\u001b[0m: : : |\n| | : | : |\n|Y| : |B: |\n+---------+\n  (West)\n+---------+\n|\u001b[35mR\u001b[0m: | : :G|\n| : | : : |\n|\u001b[42m_\u001b[0m: : : : |\n| | : | : |\n|Y| : |B: |\n+---------+\n  (West)\n+---------+\n|\u001b[35mR\u001b[0m: | : :G|\n|\u001b[42m_\u001b[0m: | : : |\n| : : : : |\n| | : | : |\n|Y| : |B: |\n+---------+\n  (North)\n+---------+\n|\u001b[35m\u001b[42mR\u001b[0m\u001b[0m: | : :G|\n| : | : : |\n| : : : : |\n| | : | : |\n|Y| : |B: |\n+---------+\n  (North)\nScore 6\n*************************************************\nEPISODE  99\n+---------+\n|\u001b[34;1mR\u001b[0m: | : :G|\n| : | : : |\n| : : : : |\n| | : | : |\n|Y| : |\u001b[35m\u001b[43mB\u001b[0m\u001b[0m: |\n+---------+\n\n+---------+\n|\u001b[34;1mR\u001b[0m: | : :G|\n| : | : : |\n| : : : : |\n| | : |\u001b[43m \u001b[0m: |\n|Y| : |\u001b[35mB\u001b[0m: |\n+---------+\n  (North)\n+---------+\n|\u001b[34;1mR\u001b[0m: | : :G|\n| : | : : |\n| : : :\u001b[43m \u001b[0m: |\n| | : | : |\n|Y| : |\u001b[35mB\u001b[0m: |\n+---------+\n  (North)\n+---------+\n|\u001b[34;1mR\u001b[0m: | : :G|\n| : | : : |\n| : :\u001b[43m \u001b[0m: : |\n| | : | : |\n|Y| : |\u001b[35mB\u001b[0m: |\n+---------+\n  (West)\n+---------+\n|\u001b[34;1mR\u001b[0m: | : :G|\n| : | : : |\n| :\u001b[43m \u001b[0m: : : |\n| | : | : |\n|Y| : |\u001b[35mB\u001b[0m: |\n+---------+\n  (West)\n+---------+\n|\u001b[34;1mR\u001b[0m: | : :G|\n| :\u001b[43m \u001b[0m| : : |\n| : : : : |\n| | : | : |\n|Y| : |\u001b[35mB\u001b[0m: |\n+---------+\n  (North)\n+---------+\n|\u001b[34;1mR\u001b[0m:\u001b[43m \u001b[0m| : :G|\n| : | : : |\n| : : : : |\n| | : | : |\n|Y| : |\u001b[35mB\u001b[0m: |\n+---------+\n  (North)\n+---------+\n|\u001b[34;1m\u001b[43mR\u001b[0m\u001b[0m: | : :G|\n| : | : : |\n| : : : : |\n| | : | : |\n|Y| : |\u001b[35mB\u001b[0m: |\n+---------+\n  (West)\n+---------+\n|\u001b[42mR\u001b[0m: | : :G|\n| : | : : |\n| : : : : |\n| | : | : |\n|Y| : |\u001b[35mB\u001b[0m: |\n+---------+\n  (Pickup)\n+---------+\n|R: | : :G|\n|\u001b[42m_\u001b[0m: | : : |\n| : : : : |\n| | : | : |\n|Y| : |\u001b[35mB\u001b[0m: |\n+---------+\n  (South)\n+---------+\n|R: | : :G|\n| :\u001b[42m_\u001b[0m| : : |\n| : : : : |\n| | : | : |\n|Y| : |\u001b[35mB\u001b[0m: |\n+---------+\n  (East)\n+---------+\n|R: | : :G|\n| : | : : |\n| :\u001b[42m_\u001b[0m: : : |\n| | : | : |\n|Y| : |\u001b[35mB\u001b[0m: |\n+---------+\n  (South)\n+---------+\n|R: | : :G|\n| : | : : |\n| : :\u001b[42m_\u001b[0m: : |\n| | : | : |\n|Y| : |\u001b[35mB\u001b[0m: |\n+---------+\n  (East)\n+---------+\n|R: | : :G|\n| : | : : |\n| : : :\u001b[42m_\u001b[0m: |\n| | : | : |\n|Y| : |\u001b[35mB\u001b[0m: |\n+---------+\n  (East)\n+---------+\n|R: | : :G|\n| : | : : |\n| : : : : |\n| | : |\u001b[42m_\u001b[0m: |\n|Y| : |\u001b[35mB\u001b[0m: |\n+---------+\n  (South)\n+---------+\n|R: | : :G|\n| : | : : |\n| : : : : |\n| | : | : |\n|Y| : |\u001b[35m\u001b[42mB\u001b[0m\u001b[0m: |\n+---------+\n  (South)\nScore 5\nScore over time: 7.61\n"
    }
   ],
   "source": [
    "env.reset()\n",
    "rewards = []\n",
    "\n",
    "for episode in range(total_test_episodes):\n",
    "    state = env.reset()\n",
    "    step = 0\n",
    "    done = False\n",
    "    total_rewards = 0\n",
    "    print(\"*************************************************\")\n",
    "    print(\"EPISODE \", episode)\n",
    "\n",
    "    for step in range(max_steps):\n",
    "        env.render()\n",
    "\n",
    "        # Take the action (index) that have the maximum expected future reward given that state\n",
    "        action = np.argmax(qtable[state,:])\n",
    "\n",
    "        new_state, reward, done, info = env.step(action)\n",
    "\n",
    "        total_rewards += reward\n",
    "\n",
    "        if done:\n",
    "            rewards.append(total_rewards)\n",
    "            print(\"Score\", total_rewards)\n",
    "            break\n",
    "        state = new_state\n",
    "\n",
    "env.close()\n",
    "print(\"Score over time: \" + str(sum(rewards)/total_test_episodes))"
   ]
  },
  {
   "cell_type": "code",
   "execution_count": null,
   "metadata": {},
   "outputs": [],
   "source": []
  }
 ]
}